{
 "cells": [
  {
   "cell_type": "code",
   "execution_count": 94,
   "metadata": {},
   "outputs": [],
   "source": [
    "import sys\n",
    "sys.path.append('..')\n",
    "import os\n",
    "import re\n",
    "import json\n",
    "import gpt3\n",
    "from datetime import datetime, timezone\n",
    "\n",
    "\n",
    "#reminders = []\n",
    "\n",
    "\n",
    "\n",
    "event_prompt_str = '''This bot automatically creates calendar appointments from sentences.\n",
    "\n",
    "Input: Let's have a documentation sprint, 14:00 Feb 1, at Animal House\n",
    "Date: 2/1/2021 2:00pm\n",
    "Description: documentation sprint\n",
    "Location: Animal House\n",
    "\n",
    "Input: please set a reminder to have a welding workshop at Pirates Alley on July 28, 1:30pm\n",
    "Date: 7/28/2021 1:30pm\n",
    "Description: welding workshop\n",
    "Location: Pirates Alley\n",
    "\n",
    "Input: Electric unicycling repair at Mars on May 5, 10am\n",
    "Date: 5/5/2021 10:00am\n",
    "Description: Electric unicycling repair\n",
    "Location: Mars\n",
    "\n",
    "Input: We'll have a piano jam session at the Institute, January 15 at 3pm\n",
    "Date: 1/15/2021 3:00pm\n",
    "Description: piano jam session\n",
    "Location: Institute\n",
    "\n",
    "Input: {}\n",
    "Date:'''\n",
    "\n",
    "\n",
    "def utc_to_local(utc_dt):\n",
    "    return utc_dt.replace(tzinfo=timezone.utc).astimezone(tz=None)\n",
    "\n",
    "\n",
    "def save(events):\n",
    "    with open('events.json', 'w') as outfile:\n",
    "        json.dump(events, outfile, default=str)\n",
    "\n",
    "def load():\n",
    "    events = {}\n",
    "    if os.path.exists('events.json'):\n",
    "        with open('events.json') as json_file:\n",
    "            events = json.load(json_file)\n",
    "        for e in events:\n",
    "            e['date'] = datetime.strptime(e['date'], '%Y-%m-%d %H:%M:%S')\n",
    "    return events\n",
    "\n",
    "\n",
    "def parse_event_string(event_str):\n",
    "    response = gpt3.complete(\n",
    "        event_prompt_str.format(event_str.strip()),\n",
    "        stops=['\\nInput:'],\n",
    "        max_tokens=100,\n",
    "        temperature=0.0,\n",
    "        engine='curie',\n",
    "        max_completions=1)\n",
    "    details = re.findall('(.+)\\nDescription:(.+)\\nLocation:(.+)', response)\n",
    "    date, description, location = [e.strip() for e in details[0]]\n",
    "    return date, description, location\n",
    "\n",
    "\n",
    "def add_reminder(events, title, datestr, location):\n",
    "    date = datetime.strptime(datestr, '%m/%d/%Y %I:%M%p')\n",
    "    events.append({\n",
    "        'date': date,\n",
    "        'title': title,\n",
    "        'location': location\n",
    "    })\n",
    "    return events\n",
    "\n",
    "    \n",
    "events = load()\n",
    "    \n",
    "input_prompt = \"Tea ceremony at Jack's house, Friday April 9 at 1:15pm\"\n",
    "date, description, location = parse_event_string(input_prompt)\n",
    "events = add_reminder(events, description, date, location)\n",
    "\n",
    "input_prompt = \"We'll have a Magic the Gathering marathon at Tao's place, at 3:25pm Wednesday June 15, 2020\"\n",
    "date, description, location = parse_event_string(input_prompt)\n",
    "events = add_reminder(events, description, date, location)\n",
    "\n",
    "save(events)\n"
   ]
  },
  {
   "cell_type": "code",
   "execution_count": 61,
   "metadata": {},
   "outputs": [
    {
     "data": {
      "text/plain": [
       "[{'date': datetime.datetime(2020, 6, 15, 15, 25),\n",
       "  'title': 'Magic the Gathering marathon',\n",
       "  'location': \"Tao's place\"},\n",
       " {'date': datetime.datetime(2021, 4, 9, 13, 15),\n",
       "  'title': 'Tea ceremony',\n",
       "  'location': \"Jack's house\"}]"
      ]
     },
     "execution_count": 61,
     "metadata": {},
     "output_type": "execute_result"
    }
   ],
   "source": [
    "reminders"
   ]
  },
  {
   "cell_type": "code",
   "execution_count": 93,
   "metadata": {},
   "outputs": [
    {
     "name": "stdout",
     "output_type": "stream",
     "text": [
      "2020-06-15 15:25:00\n",
      "2021-04-09 13:15:00\n",
      "[{'date': datetime.datetime(2020, 6, 15, 15, 25), 'title': 'Magic the Gathering marathon', 'location': \"Tao's place\"}, {'date': datetime.datetime(2021, 4, 9, 13, 15), 'title': 'Tea ceremony', 'location': \"Jack's house\"}]\n"
     ]
    }
   ],
   "source": [
    "\n",
    "print(events)"
   ]
  },
  {
   "cell_type": "code",
   "execution_count": 67,
   "metadata": {},
   "outputs": [],
   "source": []
  }
 ],
 "metadata": {
  "kernelspec": {
   "display_name": "Python 3",
   "language": "python",
   "name": "python3"
  },
  "language_info": {
   "codemirror_mode": {
    "name": "ipython",
    "version": 3
   },
   "file_extension": ".py",
   "mimetype": "text/x-python",
   "name": "python",
   "nbconvert_exporter": "python",
   "pygments_lexer": "ipython3",
   "version": "3.6.8"
  }
 },
 "nbformat": 4,
 "nbformat_minor": 4
}
