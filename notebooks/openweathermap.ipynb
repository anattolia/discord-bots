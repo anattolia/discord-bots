{
 "cells": [
  {
   "cell_type": "code",
   "execution_count": 12,
   "metadata": {},
   "outputs": [
    {
     "name": "stdout",
     "output_type": "stream",
     "text": [
      "<pyowm.weatherapi25.observation.Observation - reception time=2020-12-24 23:59:05+00>\n"
     ]
    }
   ],
   "source": [
    "import os\n",
    "from dotenv import load_dotenv\n",
    "from pyowm import OWM\n",
    "\n",
    "load_dotenv('../.env')\n",
    "\n",
    "owm = OWM(os.getenv('WEATHERAPI_KEY'))\n",
    "obs = owm.weather_at_place('London,GB')  \n",
    "obs = owm.weather_at_coords(-0.107331,51.503614)  \n",
    "print(obs)"
   ]
  },
  {
   "cell_type": "code",
   "execution_count": 10,
   "metadata": {},
   "outputs": [
    {
     "data": {
      "text/plain": [
       "81"
      ]
     },
     "execution_count": 10,
     "metadata": {},
     "output_type": "execute_result"
    }
   ],
   "source": [
    "\n",
    "# Search for current weather in London (Great Britain) and get details\n",
    "w = obs.get_weather()\n",
    "\n",
    "\n",
    "#w.detailed_status         # 'clouds'\n",
    "w.get_wind()                  # {'speed': 4.6, 'deg': 330}\n",
    "w.get_humidity()               # 87\n",
    "w.get_temperature('celsius')  # {'temp_max': 10.5, 'temp': 9.7, 'temp_min': 9.0}\n",
    "w.get_rain()               # {}\n",
    "w.get_heat_index()              # None\n",
    "w.get_clouds()                 # 75\n"
   ]
  },
  {
   "cell_type": "code",
   "execution_count": 101,
   "metadata": {},
   "outputs": [
    {
     "name": "stdout",
     "output_type": "stream",
     "text": [
      "[{'time': datetime.datetime(2020, 12, 24, 19, 0, tzinfo=datetime.timezone(datetime.timedelta(-1, 57600), 'PST')), 'temperature': 55.69, 'wind': 9.3280398, 'rain': None, 'heat_index': None, 'status': 'overcast clouds'}, {'time': datetime.datetime(2020, 12, 24, 22, 0, tzinfo=datetime.timezone(datetime.timedelta(-1, 57600), 'PST')), 'temperature': 53.13, 'wind': 2.4830034000000003, 'rain': None, 'heat_index': None, 'status': 'broken clouds'}]\n"
     ]
    }
   ],
   "source": [
    "from datetime import timezone, datetime\n",
    "from datetime import timedelta\n",
    "\n",
    "def utc_to_local(utc_dt):\n",
    "    return utc_dt.replace(tzinfo=timezone.utc).astimezone(tz=None)\n",
    "\n",
    "today = datetime.today().date()\n",
    "tomorrow = today + timedelta(days=1)\n",
    "\n",
    "fc = owm.three_hours_forecast_at_coords(33.362475, -115.715248)\n",
    "#fc = owm.three_hours_forecast_at_coords(40.744206, -74.000630)\n",
    "\n",
    "weather = fc.get_forecast()\n",
    "forecast = [{'time': utc_to_local(datetime.utcfromtimestamp(w.get_reference_time())),\n",
    "             'temperature': w.get_temperature('fahrenheit')['temp'],\n",
    "             'wind': w.get_wind('miles_hour')['speed'], \n",
    "             'rain': None if w.get_rain()=={} else w.get_rain()['3h'],\n",
    "             'heat_index': w.get_heat_index(),\n",
    "             'status': w.get_detailed_status()} \n",
    "            for w in weather.get_weathers()]\n",
    "\n",
    "today_forecast = [f for f in forecast if f['time'].date() == today]\n",
    "tomorrow_forecast = [f for f in forecast if f['time'].date() == tomorrow]\n",
    "\n",
    "print(today_forecast)\n",
    "\n",
    "#print([f['rain'] for f in today_forecast])\n"
   ]
  },
  {
   "cell_type": "code",
   "execution_count": 103,
   "metadata": {},
   "outputs": [
    {
     "data": {
      "text/plain": [
       "'broken clouds'"
      ]
     },
     "execution_count": 103,
     "metadata": {},
     "output_type": "execute_result"
    }
   ],
   "source": [
    "#[{'time': f['time'], {''} for f in tomorrow_forecast]\n",
    "weather.get_weathers()[0].get_detailed_status()"
   ]
  },
  {
   "cell_type": "code",
   "execution_count": null,
   "metadata": {},
   "outputs": [],
   "source": []
  },
  {
   "cell_type": "code",
   "execution_count": 78,
   "metadata": {},
   "outputs": [
    {
     "data": {
      "text/plain": [
       "{'1h': 0.6}"
      ]
     },
     "execution_count": 78,
     "metadata": {},
     "output_type": "execute_result"
    }
   ],
   "source": [
    "from pyowm import OWM\n",
    "#owm = OWM(myapikey)\n",
    "weather = owm.weather_at_coords(40.744206, -74.000630)\n",
    "weather.get_weather().get_rain()\n",
    "\n",
    "#current = mgr.one_call(location['lat'], location['lon']).current\n",
    "#new_rainfall = current.rain\n"
   ]
  },
  {
   "cell_type": "code",
   "execution_count": 30,
   "metadata": {},
   "outputs": [
    {
     "data": {
      "text/plain": [
       "(datetime.date(2020, 12, 24), datetime.datetime(2020, 12, 24, 0, 0))"
      ]
     },
     "execution_count": 30,
     "metadata": {},
     "output_type": "execute_result"
    }
   ],
   "source": [
    "w['time'].date(), datetime(2020, 12, 24)"
   ]
  }
 ],
 "metadata": {
  "kernelspec": {
   "display_name": "Python 3",
   "language": "python",
   "name": "python3"
  },
  "language_info": {
   "codemirror_mode": {
    "name": "ipython",
    "version": 3
   },
   "file_extension": ".py",
   "mimetype": "text/x-python",
   "name": "python",
   "nbconvert_exporter": "python",
   "pygments_lexer": "ipython3",
   "version": "3.6.8"
  }
 },
 "nbformat": 4,
 "nbformat_minor": 4
}
