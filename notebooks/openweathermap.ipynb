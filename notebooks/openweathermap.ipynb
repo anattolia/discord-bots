{
 "cells": [
  {
   "cell_type": "code",
   "execution_count": 9,
   "metadata": {},
   "outputs": [
    {
     "name": "stdout",
     "output_type": "stream",
     "text": [
      "<pyowm.weatherapi25.observation.Observation - reception time=2020-12-24 20:13:02+00>\n"
     ]
    }
   ],
   "source": [
    "import os\n",
    "from dotenv import load_dotenv\n",
    "from pyowm import OWM\n",
    "\n",
    "load_dotenv('../.env')\n",
    "\n",
    "owm = OWM(os.getenv('WEATHERAPI_KEY'))\n",
    "obs = owm.weather_at_place('London,GB')  \n",
    "obs = owm.weather_at_coords(-0.107331,51.503614)  \n",
    "print(obs)"
   ]
  },
  {
   "cell_type": "code",
   "execution_count": 10,
   "metadata": {},
   "outputs": [
    {
     "data": {
      "text/plain": [
       "81"
      ]
     },
     "execution_count": 10,
     "metadata": {},
     "output_type": "execute_result"
    }
   ],
   "source": [
    "\n",
    "# Search for current weather in London (Great Britain) and get details\n",
    "w = obs.get_weather()\n",
    "\n",
    "\n",
    "#w.detailed_status         # 'clouds'\n",
    "w.get_wind()                  # {'speed': 4.6, 'deg': 330}\n",
    "w.get_humidity()               # 87\n",
    "w.get_temperature('celsius')  # {'temp_max': 10.5, 'temp': 9.7, 'temp_min': 9.0}\n",
    "w.get_rain()               # {}\n",
    "w.get_heat_index()              # None\n",
    "w.get_clouds()                 # 75\n"
   ]
  },
  {
   "cell_type": "code",
   "execution_count": 11,
   "metadata": {},
   "outputs": [
    {
     "name": "stdout",
     "output_type": "stream",
     "text": [
      "2020-12-24 13:00:00-08:00 62.22 6.845036400000001\n",
      "2020-12-24 16:00:00-08:00 59.99 5.592350000000001\n",
      "2020-12-24 19:00:00-08:00 54.54 4.2054472\n",
      "2020-12-24 22:00:00-08:00 51.75 3.914645\n",
      "2020-12-25 01:00:00-08:00 53.31 4.0936002\n",
      "2020-12-25 04:00:00-08:00 52.74 4.5186188000000005\n",
      "2020-12-25 07:00:00-08:00 51.17 1.8566602\n",
      "2020-12-25 10:00:00-08:00 62.65 0.8276678000000001\n",
      "2020-12-25 13:00:00-08:00 64.94 2.2145706\n",
      "2020-12-25 16:00:00-08:00 62.6 0.9171454\n",
      "2020-12-25 19:00:00-08:00 55.83 1.565858\n",
      "2020-12-25 22:00:00-08:00 54.93 1.0737312\n",
      "2020-12-26 01:00:00-08:00 54.61 1.5211192000000002\n",
      "2020-12-26 04:00:00-08:00 53.94 1.4763804000000003\n",
      "2020-12-26 07:00:00-08:00 53.08 2.2145706\n",
      "2020-12-26 10:00:00-08:00 65.16 3.243563\n",
      "2020-12-26 13:00:00-08:00 68.23 1.7448132000000003\n",
      "2020-12-26 16:00:00-08:00 66.06 1.4763804000000003\n",
      "2020-12-26 19:00:00-08:00 57.72 1.4763804000000003\n",
      "2020-12-26 22:00:00-08:00 56.21 3.6685816\n",
      "2020-12-27 01:00:00-08:00 54.95 1.0513618\n",
      "2020-12-27 04:00:00-08:00 54.01 1.3869028\n",
      "2020-12-27 07:00:00-08:00 52.12 1.3197946\n",
      "2020-12-27 10:00:00-08:00 64.09 0.7381902000000001\n",
      "2020-12-27 13:00:00-08:00 66.47 2.5277422\n",
      "2020-12-27 16:00:00-08:00 63.93 0.9171454\n",
      "2020-12-27 19:00:00-08:00 59.02 9.4398868\n",
      "2020-12-27 22:00:00-08:00 54.73 9.395148\n",
      "2020-12-28 01:00:00-08:00 52.02 7.918767600000001\n",
      "2020-12-28 04:00:00-08:00 50.68 10.4241404\n",
      "2020-12-28 07:00:00-08:00 50.85 4.4067718000000005\n",
      "2020-12-28 10:00:00-08:00 57.38 10.6702038\n",
      "2020-12-28 13:00:00-08:00 60.37 14.942759200000001\n",
      "2020-12-28 16:00:00-08:00 59.25 19.908766000000004\n",
      "2020-12-28 19:00:00-08:00 51.03 11.2294388\n",
      "2020-12-28 22:00:00-08:00 48.25 5.6594581999999996\n",
      "2020-12-29 01:00:00-08:00 46.81 4.831790400000001\n",
      "2020-12-29 04:00:00-08:00 46.33 6.9121446\n",
      "2020-12-29 07:00:00-08:00 45.25 5.7265664\n",
      "2020-12-29 10:00:00-08:00 56.7 4.854159800000001\n"
     ]
    }
   ],
   "source": [
    "fc = owm.three_hours_forecast_at_coords(33.362475, -115.715248)\n",
    "f = fc.get_forecast()\n",
    "lst = f.get_weathers()\n",
    "#for weather in f:\n",
    "#    print (weather.get_reference_time('iso'),weather.get_status())\n",
    "#    print()\n",
    "    \n",
    "from datetime import timezone, datetime\n",
    "\n",
    "temps = [weather.get_temperature('fahrenheit') for weather in f]\n",
    "winds = [weather.get_wind('miles_hour') for weather in f]\n",
    "times = [weather.get_reference_time() for weather in f]\n",
    "\n",
    "\n",
    "def utc_to_local(utc_dt):\n",
    "    return utc_dt.replace(tzinfo=timezone.utc).astimezone(tz=None)\n",
    "\n",
    "for t, tm, w in zip(times, temps, winds):\n",
    "    print(utc_to_local(datetime.utcfromtimestamp(t)), tm['temp'], w['speed'])\n"
   ]
  },
  {
   "cell_type": "code",
   "execution_count": null,
   "metadata": {},
   "outputs": [],
   "source": []
  }
 ],
 "metadata": {
  "kernelspec": {
   "display_name": "Python 3",
   "language": "python",
   "name": "python3"
  },
  "language_info": {
   "codemirror_mode": {
    "name": "ipython",
    "version": 3
   },
   "file_extension": ".py",
   "mimetype": "text/x-python",
   "name": "python",
   "nbconvert_exporter": "python",
   "pygments_lexer": "ipython3",
   "version": "3.6.8"
  }
 },
 "nbformat": 4,
 "nbformat_minor": 4
}
