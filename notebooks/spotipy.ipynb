{
 "cells": [
  {
   "cell_type": "code",
   "execution_count": 2,
   "metadata": {},
   "outputs": [],
   "source": [
    "import re\n",
    "import os\n",
    "import spotipy\n",
    "from dotenv import load_dotenv\n",
    "\n",
    "load_dotenv()\n",
    "\n",
    "spotify = spotipy.Spotify(\n",
    "    auth_manager=spotipy.oauth2.SpotifyOAuth(\n",
    "        client_id=os.getenv('SPOTIFY_CLIENT_ID'),\n",
    "        client_secret=os.getenv('SPOTIFY_CLIENT_SECRET'),\n",
    "        redirect_uri=os.getenv('SPOTIFY_REDIRECT_URI'),\n",
    "        scope=\"streaming\"))\n",
    "\n",
    "#spotify.start_playback()\n",
    "#spotify.devices()"
   ]
  },
  {
   "cell_type": "code",
   "execution_count": null,
   "metadata": {},
   "outputs": [
    {
     "name": "stderr",
     "output_type": "stream",
     "text": [
      "Couldn't read cache at: .cache\n"
     ]
    }
   ],
   "source": [
    "devices = spotify.devices()['devices']\n",
    "active_devices = [dev for dev in devices if dev['is_active']]\n",
    "device = active_devices[0] if active_devices else devices[0]\n",
    "device_id = device['id']\n",
    "#print(device_id)\n"
   ]
  },
  {
   "cell_type": "code",
   "execution_count": 2,
   "metadata": {},
   "outputs": [
    {
     "name": "stdout",
     "output_type": "stream",
     "text": [
      "2jT3iJ9w0WD51E2VRDPzOD\n"
     ]
    }
   ],
   "source": [
    "results = spotify.search(q='phish divided sky', limit=5)\n",
    "top_track = results['tracks']['items'][0] \n",
    "track_id = top_track['id']\n",
    "print(track_id)\n"
   ]
  },
  {
   "cell_type": "code",
   "execution_count": 3,
   "metadata": {},
   "outputs": [],
   "source": [
    "\n",
    "spotify = spotipy.Spotify(\n",
    "    auth_manager=spotipy.oauth2.SpotifyOAuth(\n",
    "        client_id=os.getenv('SPOTIFY_CLIENT_ID'),\n",
    "        client_secret=os.getenv('SPOTIFY_CLIENT_SECRET'),\n",
    "        redirect_uri=os.getenv('SPOTIFY_REDIRECT_URI'),\n",
    "        scope=\"playlist-modify-public\"))\n",
    "\n",
    "spotify.playlist_add_items('4Lvbuq9oir28AJ1UjCiLQO','2jT3iJ9w0WD51E2VRDPzOD')"
   ]
  }
 ],
 "metadata": {
  "kernelspec": {
   "display_name": "Python 3",
   "language": "python",
   "name": "python3"
  },
  "language_info": {
   "codemirror_mode": {
    "name": "ipython",
    "version": 3
   },
   "file_extension": ".py",
   "mimetype": "text/x-python",
   "name": "python",
   "nbconvert_exporter": "python",
   "pygments_lexer": "ipython3",
   "version": "3.6.8"
  }
 },
 "nbformat": 4,
 "nbformat_minor": 4
}
