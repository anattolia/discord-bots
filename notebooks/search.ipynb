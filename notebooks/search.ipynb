{
 "cells": [
  {
   "cell_type": "code",
   "execution_count": 144,
   "metadata": {},
   "outputs": [],
   "source": [
    "import json\n",
    "import requests\n",
    "import numpy as np\n",
    "import os\n",
    "from dotenv import load_dotenv\n",
    "import openai\n",
    "\n",
    "\n",
    "load_dotenv()\n",
    "openai.api_key = os.getenv('OPENAI_API_KEY')\n",
    "\n",
    "\n",
    "def openai_complete(prompt, \n",
    "                    stops=None, \n",
    "                    max_tokens=100, \n",
    "                    temperature=0.9, \n",
    "                    engine='davinci',\n",
    "                    max_completions=1):\n",
    "    finished = False\n",
    "    completion = ''\n",
    "    n_completions = 0\n",
    "    \n",
    "    while not finished:\n",
    "        response = openai.Completion.create(\n",
    "            engine=engine, \n",
    "            prompt=prompt, \n",
    "            max_tokens=max_tokens, \n",
    "            temperature=temperature,\n",
    "            stop=stops)\n",
    "        \n",
    "        n_completions += 1\n",
    "        text = response.choices[0].text\n",
    "        completion += text\n",
    "        print(n_completions, completion)\n",
    "        prompt += text\n",
    "        finished = response.choices[0].finish_reason == 'stop' \\\n",
    "            or n_completions >= max_completions\n",
    "    \n",
    "    return completion.strip()\n",
    "\n",
    "\n",
    "def openai_search(documents, query, engine='davinci'):\n",
    "    data = json.dumps({\"documents\": documents, \"query\": query})\n",
    "    headers = {\n",
    "        'Content-Type': 'application/json',\n",
    "        'Authorization': 'Bearer %s' % os.getenv('OPENAI_API_KEY'),\n",
    "    }\n",
    "    response = requests.post('https://api.openai.com/v1/engines/davinci/search', headers=headers, data=data)\n",
    "    result = json.loads(response.text)\n",
    "    return result\n"
   ]
  },
  {
   "cell_type": "code",
   "execution_count": 145,
   "metadata": {},
   "outputs": [
    {
     "name": "stdout",
     "output_type": "stream",
     "text": [
      "{'object': 'list', 'data': [{'object': 'search_result', 'document': 0, 'score': -10.01}, {'object': 'search_result', 'document': 1, 'score': -5.976}, {'object': 'search_result', 'document': 2, 'score': -7.003}, {'object': 'search_result', 'document': 3, 'score': -1.018}, {'object': 'search_result', 'document': 4, 'score': 5.434}, {'object': 'search_result', 'document': 5, 'score': -10.251}, {'object': 'search_result', 'document': 6, 'score': -22.648}, {'object': 'search_result', 'document': 7, 'score': -21.679}, {'object': 'search_result', 'document': 8, 'score': -12.835}, {'object': 'search_result', 'document': 9, 'score': 27.077}], 'model': 'davinci:2020-05-03'}\n",
      " -> robot : 27.08\n",
      " -> weird : 5.43\n",
      " -> crazy : -1.02\n",
      " -> sad : -5.98\n",
      " -> funny : -7.00\n",
      " -> happy : -10.01\n",
      " -> disgusting : -10.25\n",
      " -> nature : -12.84\n",
      " -> mountains : -21.68\n",
      " -> bicycle : -22.65\n"
     ]
    }
   ],
   "source": [
    "\n",
    "\n",
    "candidates = ['happy', 'sad', 'funny', 'crazy', 'weird', 'disgusting', 'bicycle', 'mountains', 'nature', 'robot']\n",
    "query = 'Have you considered that you may feel like a robot because you are a robot?'\n",
    "result = openai_search(candidates, query, engine='curie')\n",
    "print(result)\n",
    "\n",
    "scores = [doc['score'] for doc in result['data']]\n",
    "ranked_queries = list(reversed(np.argsort(scores)))\n",
    "options_search = [{'candidate': candidates[idx], 'score': scores[idx]} for idx in ranked_queries]\n",
    "for result in options_search[:]:\n",
    "    print(\" -> %s : %0.2f\" % (result['candidate'], result['score']))\n",
    "    \n"
   ]
  },
  {
   "cell_type": "markdown",
   "metadata": {},
   "source": [
    "## Emoji reactions"
   ]
  },
  {
   "cell_type": "code",
   "execution_count": 147,
   "metadata": {},
   "outputs": [
    {
     "name": "stdout",
     "output_type": "stream",
     "text": [
      "[{'candidate': 'bicycle, biking', 'score': 191.402}, {'candidate': 'running, exercise', 'score': 69.08}, {'candidate': 'cool, hip', 'score': 67.19}, {'candidate': 'work, tools, building', 'score': 65.606}]\n",
      "work, tools, building\n",
      "['🔨', '🛠️']\n",
      "🛠️\n"
     ]
    }
   ],
   "source": [
    "from emojis import *\n",
    "import random\n",
    "import numpy as np\n",
    "\n",
    "candidates = list(emoji_docs.keys())\n",
    "query = 'this is a bike'\n",
    "result = openai_search(candidates, query, engine='curie')\n",
    "\n",
    "scores = [doc['score'] for doc in result['data']]\n",
    "ranked_queries = list(reversed(np.argsort(scores)))\n",
    "\n",
    "options = [{'candidate': candidates[idx], 'score': scores[idx]} \n",
    "           for idx in ranked_queries\n",
    "           if scores[idx] > 10][:4]\n",
    "\n",
    "\n",
    "print(options)\n",
    "\n",
    "option = random.choices([o['candidate'] for o in options], \n",
    "                        weights=[o['score'] for o in options], k=1)[0]\n",
    "react = random.choice(emoji_docs[option]).strip()\n",
    "print(option)\n",
    "print(emoji_docs[option])\n",
    "print(react)\n",
    "\n",
    "# for result in options_search[:]:\n",
    "#     emoji = emoji_docs[result['candidate']] #random.choice(emoji_docs[result['candidate']])\n",
    "#     print(\" -> %s : %0.2f %s\" % (result['candidate'], result['score'], emoji))\n",
    "    \n"
   ]
  },
  {
   "cell_type": "code",
   "execution_count": 148,
   "metadata": {},
   "outputs": [
    {
     "name": "stdout",
     "output_type": "stream",
     "text": [
      "query: When did the Ottoman empire exist?\n",
      " -> physics : -20.09\n",
      " -> history : 42.87\n",
      " -> sports : -18.17\n",
      " -> science : -25.04\n",
      " -> philosophy : -39.68\n",
      " -> social life : -31.21\n"
     ]
    }
   ],
   "source": [
    "\n",
    "documents = [\n",
    "    \"physics\",\n",
    "    \"history\",\n",
    "    \"sports\",\n",
    "    \"science\",\n",
    "    \"philosophy\",\n",
    "    \"social life\"\n",
    "]\n",
    "\n",
    "query = 'What is the Newton\\'s law of gravitation?'\n",
    "query = 'When did the Ottoman empire exist?'\n",
    "#query = 'How do you play cricket?'\n",
    "\n",
    "result = openai_search(documents, query, engine='ada')\n",
    "\n",
    "print('query: %s' % query)\n",
    "#sorted(result['data'], key=lambda d:-d['score'])\n",
    "\n",
    "for d, doc in enumerate(result['data']):\n",
    "    print(\" -> %s : %0.2f\" % (documents[d], doc['score']))\n"
   ]
  },
  {
   "cell_type": "code",
   "execution_count": 2,
   "metadata": {},
   "outputs": [
    {
     "name": "stdout",
     "output_type": "stream",
     "text": [
      "The autoreload extension is already loaded. To reload it, use:\n",
      "  %reload_ext autoreload\n"
     ]
    },
    {
     "data": {
      "text/plain": [
       "{'token_env': 'DISCORD_TOKEN_SUNRISESUNSET',\n",
       " 'debug': False,\n",
       " 'programs': {'spotify': {'name': 'Sunrise Sunset'},\n",
       "  'gpt3_prompt': [{'prompt': 'Here is a short poem about the beginning of a new day.\\n\\n    I\\'ll tell you how the sun rose, —\\n    A ribbon at a time.\\n    The steeples swam in amethyst,\\n    The news like squirrels ran.\\n\\n    The hills untied their bonnets,\\n    The bobolinks begun.\\n    Then I said softly to myself,\\n    \"That must have been the sun!\" \\n\\n\\n\\n    Here is a short poem about the beginning of a new day.\\n\\n    Dawn\\n    Is beautiful.\\n    Its new and raw.\\n    It\\'s  beautifully honest.\\n    There\\'s something redeeming\\n    about the early minutes our day\\n    It imitates the early minutes of our existence\\n    And erodes the nonsense and lies\\n    Of day-to-day survival.\\n\\n\\n\\n    Here is a short poem about the beginning of a new day.\\n\\n    Long before the postman comes\\n    The sun begins to rise,\\n    Far in the East if you should look\\n    You\\'d find it in the skies.\\n    At first it\\'s just a streak of light\\n    Then all at once the world gets bright.\\n\\n    Here is a short poem about the beginning of a new day.',\n",
       "    'engine': 'davinci',\n",
       "    'temperature': 0.9,\n",
       "    'max_tokens': 200,\n",
       "    'stops': ['\\nHere is a short'],\n",
       "    'preface': 'A new day begins 😎\\nHere is my poem of the day:\\n\\n'},\n",
       "   {'prompt': \"Here is a short poem about the sunset.\\n\\n    Out of the sunset's red\\n    Into the blushing sea,\\n    The winds of day drop dead\\n    And dreams come home to me. —\\n    The sea is still,— and apart\\n    Is a stillness in my heart.\\n\\n\\n\\n    Here is a short poem about the sunset.\\n\\n    It is a beauteous evening, calm and free,\\n    The holy time is quiet as a Nun\\n    Breathless with adoration; the broad sun\\n    Is sinking down in its tranquility;\\n    The gentleness of heaven broods o’er the Sea …\\n\\n\\n\\n    Here is a short poem about the sunset.\\n\\n    The sun's still keeping the sky\\n    somewhat colored,\\n    even though it's already gone down\\n    beyond the horizon.\\n\\n\\n\\n    Here is a short poem about the sunset.\",\n",
       "    'engine': 'davinci',\n",
       "    'temperature': 0.9,\n",
       "    'max_tokens': 200,\n",
       "    'stops': ['\\nHere is a short'],\n",
       "    'preface': \"One hour until sunset! 😎\\nHere is this evening's incantation:\\n\\n\"}]},\n",
       " 'behaviors': {'on_message': {'response_probability': 0.0,\n",
       "   'reaction_probability': 0.25,\n",
       "   'channels': None},\n",
       "  'on_mention': {'response_probability': 0.0,\n",
       "   'reaction_probability': 0.5,\n",
       "   'channels': None},\n",
       "  'timed': [{'type': 'sunrise',\n",
       "    'minutes_before': 0,\n",
       "    'program': 'gpt3_prompt',\n",
       "    'program_index': 0,\n",
       "    'channel': 1500477055790481515},\n",
       "   {'type': 'sunset',\n",
       "    'minutes_before': 60,\n",
       "    'program': 'gpt3_prompt',\n",
       "    'program_index': 1,\n",
       "    'channel': 1500477055790481515}]}}"
      ]
     },
     "execution_count": 2,
     "metadata": {},
     "output_type": "execute_result"
    }
   ],
   "source": [
    "%load_ext autoreload\n",
    "%autoreload 2\n",
    "\n",
    "from bots2 import bots\n",
    "bots['sunrisesunset']"
   ]
  },
  {
   "cell_type": "code",
   "execution_count": 4,
   "metadata": {},
   "outputs": [
    {
     "name": "stdout",
     "output_type": "stream",
     "text": [
      "sunrisesunset\n",
      "mesa\n",
      "mechanicalduck\n",
      "chatsubo\n",
      "wall-e\n",
      "eve\n",
      "facts\n",
      "philosophy\n",
      "deeplearning\n",
      "kitchen\n",
      "qa\n"
     ]
    }
   ],
   "source": [
    "from bots import bots\n",
    "for s in bots.keys():\n",
    "    print(s)"
   ]
  },
  {
   "cell_type": "code",
   "execution_count": 1,
   "metadata": {},
   "outputs": [
    {
     "name": "stdout",
     "output_type": "stream",
     "text": [
      "GO!\n",
      "<module 'bots2.channels' from '/home/gene/mars/discord-bots/bots2/channels.py'>\n"
     ]
    }
   ],
   "source": [
    "import bots2"
   ]
  },
  {
   "cell_type": "code",
   "execution_count": null,
   "metadata": {},
   "outputs": [],
   "source": []
  }
 ],
 "metadata": {
  "kernelspec": {
   "display_name": "Python 3",
   "language": "python",
   "name": "python3"
  },
  "language_info": {
   "codemirror_mode": {
    "name": "ipython",
    "version": 3
   },
   "file_extension": ".py",
   "mimetype": "text/x-python",
   "name": "python",
   "nbconvert_exporter": "python",
   "pygments_lexer": "ipython3",
   "version": "3.6.8"
  }
 },
 "nbformat": 4,
 "nbformat_minor": 4
}
