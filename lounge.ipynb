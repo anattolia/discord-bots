{
 "cells": [
  {
   "cell_type": "code",
   "execution_count": 6,
   "metadata": {},
   "outputs": [],
   "source": [
    "import json\n",
    "import requests\n",
    "import os\n",
    "from dotenv import load_dotenv\n",
    "import openai\n",
    "\n",
    "load_dotenv()\n",
    "openai.api_key = os.getenv('OPENAI_API_KEY')\n",
    "\n",
    "\n",
    "def openai_complete(prompt, stops=None, max_tokens=100, temperature=0.9, engine='davinci'):\n",
    "    response = openai.Completion.create(\n",
    "        engine=engine, \n",
    "        prompt=prompt, \n",
    "        max_tokens=max_tokens, \n",
    "        temperature=temperature,\n",
    "        stop=stops)\n",
    "    text = response.choices[0].text\n",
    "    return text.strip()\n",
    "\n",
    "def openai_search(documents, query, engine='davinci'):\n",
    "    data = json.dumps({\"documents\": documents, \"query\": query})\n",
    "    headers = {\n",
    "        'Content-Type': 'application/json',\n",
    "        'Authorization': 'Bearer %s' % os.getenv('OPENAI_API_KEY'),\n",
    "    }\n",
    "    response = requests.post('https://api.openai.com/v1/engines/davinci/search', headers=headers, data=data)\n",
    "    result = json.loads(response.text)\n",
    "    return result\n"
   ]
  },
  {
   "cell_type": "code",
   "execution_count": null,
   "metadata": {},
   "outputs": [],
   "source": [
    "import sys\n",
    "import os\n",
    "import re\n",
    "import json\n",
    "import time\n",
    "import requests\n",
    "from easydict import EasyDict\n",
    "import random\n",
    "import itertools\n",
    "import numpy as np\n",
    "from dotenv import load_dotenv\n",
    "\n",
    "from transformers.tokenization_gpt2 import GPT2Tokenizer\n",
    "import discord\n",
    "import openai\n",
    "\n",
    "\n",
    "import json\n",
    "import requests\n",
    "import os\n",
    "from dotenv import load_dotenv\n",
    "import openai\n",
    "\n",
    "load_dotenv()\n",
    "openai.api_key = os.getenv('OPENAI_API_KEY')\n",
    "\n",
    "\n",
    "def count_tokens(text):\n",
    "    encoding = GPT2Tokenizer.from_pretrained(\"gpt2-xl\")\n",
    "    tokens = encoding(text)\n",
    "    return len(tokens[\"input_ids\"])\n",
    "\n",
    "\n",
    "\n",
    "def gpt3_complete(prompt, \n",
    "                  stops=None, \n",
    "                  max_tokens=100, \n",
    "                  temperature=0.9, \n",
    "                  engine='davinci',\n",
    "                  max_completions=1):\n",
    "    \n",
    "    finished = False\n",
    "    completion = ''\n",
    "    n_completions = 0\n",
    "    n_tokens = 0\n",
    "    \n",
    "    \n",
    "    # fix this\n",
    "    max_completions=1\n",
    "    \n",
    "    \n",
    "    while not finished:\n",
    "        response = openai.Completion.create(\n",
    "            engine=engine, \n",
    "            prompt=prompt, \n",
    "            max_tokens=max_tokens, \n",
    "            temperature=temperature,\n",
    "            stop=stops)\n",
    "        \n",
    "        n_completions += 1\n",
    "        text = response.choices[0].text\n",
    "        completion += text\n",
    "        prompt += text\n",
    "        n_tokens = count_tokens(prompt)\n",
    "        print('complete %d/%d (%d):'%(n_completions, max_completions, n_tokens), text)\n",
    "        finished = response.choices[0].finish_reason == 'stop' \\\n",
    "            or n_completions >= max_completions \\\n",
    "            or n_tokens + max_tokens >= 1600\n",
    "    \n",
    "    return completion.strip()\n",
    "\n"
   ]
  },
  {
   "cell_type": "code",
   "execution_count": 21,
   "metadata": {},
   "outputs": [
    {
     "name": "stdout",
     "output_type": "stream",
     "text": [
      "1  where Presidents make deals with our enemies and Congressmen, that go to events and ask questions about legislation\n",
      "2  where Presidents make deals with our enemies and Congressmen, that go to events and ask questions about legislation in email blasts, and when you agree with them, yourself find yourself being called a racist and a\n",
      "3  where Presidents make deals with our enemies and Congressmen, that go to events and ask questions about legislation in email blasts, and when you agree with them, yourself find yourself being called a racist and a terrorist. This is what Leftist Socialist higher education is producing for us. The environment in which we\n",
      "4  where Presidents make deals with our enemies and Congressmen, that go to events and ask questions about legislation in email blasts, and when you agree with them, yourself find yourself being called a racist and a terrorist. This is what Leftist Socialist higher education is producing for us. The environment in which we are raising our future leaders. In Islam, which these people claim to be all about peace, if\n",
      "5  where Presidents make deals with our enemies and Congressmen, that go to events and ask questions about legislation in email blasts, and when you agree with them, yourself find yourself being called a racist and a terrorist. This is what Leftist Socialist higher education is producing for us. The environment in which we are raising our future leaders. In Islam, which these people claim to be all about peace, if you are a non-believer, you are less than human. To me, ISIS, al\n",
      "================\n",
      "FFINAL This is the world we live in now. One\n",
      "FFINAL where Presidents make deals with our enemies and Congressmen, that go to events and ask questions about legislation in email blasts, and when you agree with them, yourself find yourself being called a racist and a terrorist. This is what Leftist Socialist higher education is producing for us. The environment in which we are raising our future leaders. In Islam, which these people claim to be all about peace, if you are a non-believer, you are less than human. To me, ISIS, al\n"
     ]
    }
   ],
   "source": [
    "\n",
    "def openai_complete(prompt, \n",
    "                    stops=None, \n",
    "                    max_tokens=100, \n",
    "                    temperature=0.9, \n",
    "                    engine='davinci',\n",
    "                    max_completions=1):\n",
    "    finished = False\n",
    "    completion = ''\n",
    "    n_completions = 0\n",
    "    \n",
    "    while not finished:\n",
    "        response = openai.Completion.create(\n",
    "            engine=engine, \n",
    "            prompt=prompt, \n",
    "            max_tokens=max_tokens, \n",
    "            temperature=temperature,\n",
    "            stop=stops)\n",
    "        \n",
    "        n_completions += 1\n",
    "        text = response.choices[0].text\n",
    "        completion += text\n",
    "        print(n_completions, completion)\n",
    "        prompt += text\n",
    "        finished = response.choices[0].finish_reason == 'stop' \\\n",
    "            or n_completions >= max_completions\n",
    "    \n",
    "    return completion.strip()\n",
    "\n",
    "\n",
    "\n",
    "prompt = 'This is the world we live in now. One'\n",
    "stops = ['\\n']\n",
    "completion = openai_complete(prompt, stops, 20, 0.95, 'davinci', max_completions=5)\n",
    "print(\"================\")\n",
    "print(\"FFINAL\", prompt)\n",
    "print(\"FFINAL\", completion)"
   ]
  },
  {
   "cell_type": "code",
   "execution_count": 24,
   "metadata": {},
   "outputs": [
    {
     "name": "stdout",
     "output_type": "stream",
     "text": [
      "{\n",
      "  \"choices\": [\n",
      "    {\n",
      "      \"finish_reason\": \"length\",\n",
      "      \"index\": 0,\n",
      "      \"logprobs\": null,\n",
      "      \"text\": \" today,\\\" says his hero, \\\"we must all be an example to the world\\\". (Don't forget you can follow me on my all new blog here). I was standing on the waiting list for both the January 2014 and March 2014 tea shops. I saw the standard cup of tea and decided to try it out knowing it would be delicious. Since I had never had a Ghanaian tea in my life there was nothing but excitement when it arrived. I made a cup to see how it was done\"\n",
      "    }\n",
      "  ],\n",
      "  \"created\": 1603743451,\n",
      "  \"id\": \"cmpl-edQ6plQV74U2ffyzrhSYblXo\",\n",
      "  \"model\": \"ada:2020-05-03\",\n",
      "  \"object\": \"text_completion\"\n",
      "}\n"
     ]
    }
   ],
   "source": [
    "prompt = 'hey there the world is'\n",
    "stops=['\\n']\n",
    "max_tokens=100 \n",
    "temperature=0.9\n",
    "engine='ada'\n",
    "max_completions=2\n",
    "\n",
    "\n",
    "finished = False\n",
    "completion = ''\n",
    "n_completions = 0\n",
    "\n",
    "response = openai.Completion.create(\n",
    "    engine=engine, \n",
    "    prompt=prompt, \n",
    "    max_tokens=max_tokens, \n",
    "    temperature=temperature,\n",
    "    stop=stops)\n",
    "\n",
    "print(response)"
   ]
  },
  {
   "cell_type": "code",
   "execution_count": 5,
   "metadata": {},
   "outputs": [
    {
     "name": "stdout",
     "output_type": "stream",
     "text": [
      "{'input_ids': [12442, 9948, 361, 22562, 49845, 501, 42372, 498, 312, 32346, 1048], 'attention_mask': [1, 1, 1, 1, 1, 1, 1, 1, 1, 1, 1]}\n",
      "11\n"
     ]
    }
   ],
   "source": [
    "from transformers.tokenization_gpt2 import GPT2Tokenizer\n",
    "encoding = GPT2Tokenizer.from_pretrained(\"gpt2-xl\")\n",
    "tokens = encoding(\"Supercalifragalisticexpialidocious person\")\n",
    "\n",
    "print(tokens)\n",
    "print(len(tokens[\"input_ids\"]))\n",
    "                  "
   ]
  },
  {
   "cell_type": "code",
   "execution_count": 6,
   "metadata": {},
   "outputs": [
    {
     "ename": "TypeError",
     "evalue": "expected string or bytes-like object",
     "output_type": "error",
     "traceback": [
      "\u001b[0;31m---------------------------------------------------------------------------\u001b[0m",
      "\u001b[0;31mTypeError\u001b[0m                                 Traceback (most recent call last)",
      "\u001b[0;32m<ipython-input-6-f671c014b226>\u001b[0m in \u001b[0;36m<module>\u001b[0;34m\u001b[0m\n\u001b[1;32m     13\u001b[0m     \u001b[0mz\u001b[0m \u001b[0;34m=\u001b[0m \u001b[0mre\u001b[0m\u001b[0;34m.\u001b[0m\u001b[0mfindall\u001b[0m\u001b[0;34m(\u001b[0m\u001b[0;34m'> .+\\n'\u001b[0m\u001b[0;34m,\u001b[0m \u001b[0ms\u001b[0m\u001b[0;34m)\u001b[0m\u001b[0;34m\u001b[0m\u001b[0;34m\u001b[0m\u001b[0m\n\u001b[1;32m     14\u001b[0m     \u001b[0;31m#s2 = re.sub(r'\\n\\n', '\\n', s2)\u001b[0m\u001b[0;34m\u001b[0m\u001b[0;34m\u001b[0m\u001b[0;34m\u001b[0m\u001b[0m\n\u001b[0;32m---> 15\u001b[0;31m     \u001b[0ms2\u001b[0m \u001b[0;34m=\u001b[0m \u001b[0mre\u001b[0m\u001b[0;34m.\u001b[0m\u001b[0msub\u001b[0m\u001b[0;34m(\u001b[0m\u001b[0;34mr'\\n\\n'\u001b[0m\u001b[0;34m,\u001b[0m \u001b[0;34m'\\n'\u001b[0m\u001b[0;34m,\u001b[0m \u001b[0mz\u001b[0m\u001b[0;34m)\u001b[0m\u001b[0;34m\u001b[0m\u001b[0;34m\u001b[0m\u001b[0m\n\u001b[0m\u001b[1;32m     16\u001b[0m     \u001b[0mprint\u001b[0m\u001b[0;34m(\u001b[0m\u001b[0ms2\u001b[0m\u001b[0;34m)\u001b[0m\u001b[0;34m\u001b[0m\u001b[0;34m\u001b[0m\u001b[0m\n\u001b[1;32m     17\u001b[0m     \u001b[0mprint\u001b[0m\u001b[0;34m(\u001b[0m\u001b[0;34m\"------\"\u001b[0m\u001b[0;34m)\u001b[0m\u001b[0;34m\u001b[0m\u001b[0;34m\u001b[0m\u001b[0m\n",
      "\u001b[0;32m~/.pyenv/versions/3.6.8/lib/python3.6/re.py\u001b[0m in \u001b[0;36msub\u001b[0;34m(pattern, repl, string, count, flags)\u001b[0m\n\u001b[1;32m    189\u001b[0m     \u001b[0ma\u001b[0m \u001b[0mcallable\u001b[0m\u001b[0;34m,\u001b[0m \u001b[0mit\u001b[0m\u001b[0;31m'\u001b[0m\u001b[0ms\u001b[0m \u001b[0mpassed\u001b[0m \u001b[0mthe\u001b[0m \u001b[0mmatch\u001b[0m \u001b[0mobject\u001b[0m \u001b[0;32mand\u001b[0m \u001b[0mmust\u001b[0m \u001b[0;32mreturn\u001b[0m\u001b[0;34m\u001b[0m\u001b[0;34m\u001b[0m\u001b[0m\n\u001b[1;32m    190\u001b[0m     a replacement string to be used.\"\"\"\n\u001b[0;32m--> 191\u001b[0;31m     \u001b[0;32mreturn\u001b[0m \u001b[0m_compile\u001b[0m\u001b[0;34m(\u001b[0m\u001b[0mpattern\u001b[0m\u001b[0;34m,\u001b[0m \u001b[0mflags\u001b[0m\u001b[0;34m)\u001b[0m\u001b[0;34m.\u001b[0m\u001b[0msub\u001b[0m\u001b[0;34m(\u001b[0m\u001b[0mrepl\u001b[0m\u001b[0;34m,\u001b[0m \u001b[0mstring\u001b[0m\u001b[0;34m,\u001b[0m \u001b[0mcount\u001b[0m\u001b[0;34m)\u001b[0m\u001b[0;34m\u001b[0m\u001b[0;34m\u001b[0m\u001b[0m\n\u001b[0m\u001b[1;32m    192\u001b[0m \u001b[0;34m\u001b[0m\u001b[0m\n\u001b[1;32m    193\u001b[0m \u001b[0;32mdef\u001b[0m \u001b[0msubn\u001b[0m\u001b[0;34m(\u001b[0m\u001b[0mpattern\u001b[0m\u001b[0;34m,\u001b[0m \u001b[0mrepl\u001b[0m\u001b[0;34m,\u001b[0m \u001b[0mstring\u001b[0m\u001b[0;34m,\u001b[0m \u001b[0mcount\u001b[0m\u001b[0;34m=\u001b[0m\u001b[0;36m0\u001b[0m\u001b[0;34m,\u001b[0m \u001b[0mflags\u001b[0m\u001b[0;34m=\u001b[0m\u001b[0;36m0\u001b[0m\u001b[0;34m)\u001b[0m\u001b[0;34m:\u001b[0m\u001b[0;34m\u001b[0m\u001b[0;34m\u001b[0m\u001b[0m\n",
      "\u001b[0;31mTypeError\u001b[0m: expected string or bytes-like object"
     ]
    }
   ],
   "source": [
    "chats = [\n",
    "\"David: we're going to be starting the screening in a few minutes.\",\n",
    "\"Jordan: sounds awesome! i'll head over soon :)\",\n",
    "\"\"\"David: > I’ve been kicking around this notion to set up a recording studio out there.  Thought I’d mention it here to see what kind of interest there might be in such a thing.\n",
    "<@615284075493589007> \n",
    "\n",
    "This sounds like it would be a lot of fun even if we only record some of our own audio projects, and it doesn't become a pirate radio situation\"\"\"\n",
    "]\n",
    "\n",
    "import re\n",
    "\n",
    "for s in chats:\n",
    "    z = re.findall('> .+\\n', s)\n",
    "    #s2 = re.sub(r'\\n\\n', '\\n', s2)\n",
    "    s2 = re.sub(r'\\n\\n', '\\n', z)\n",
    "    print(s2)\n",
    "    print(\"------\")\n"
   ]
  },
  {
   "cell_type": "code",
   "execution_count": 8,
   "metadata": {},
   "outputs": [
    {
     "name": "stdout",
     "output_type": "stream",
     "text": [
      "prompt: hello world! i am\n",
      "completion: a simple one, too.\n",
      "\n",
      "I went out looking for photos of pretty things. and yes, i’m shallow.\n",
      "\n",
      "the little yellow flowers were too cute not to take a picture of.\n",
      "\n",
      "i’m not a fan of oversized shoes. i was kind of attracted to them, but then i kept looking at my big toenails and my feet were sore so…i kept walking.\n",
      "\n",
      "i’m not a fan of seafood. it\n"
     ]
    }
   ],
   "source": [
    "prompt = 'hello world! i am'\n",
    "result = openai_complete(prompt, engine='curie')\n",
    "print('prompt: %s'%prompt)\n",
    "print('completion: %s'%result)\n"
   ]
  },
  {
   "cell_type": "code",
   "execution_count": 11,
   "metadata": {},
   "outputs": [
    {
     "name": "stdout",
     "output_type": "stream",
     "text": [
      "query: When did the Ottoman empire exist?\n",
      " -> physics : -20.07\n",
      " -> history : 43.21\n",
      " -> sports : -19.26\n",
      " -> science : -24.08\n",
      " -> philosophy : -39.50\n",
      " -> social life : -30.01\n"
     ]
    }
   ],
   "source": [
    "\n",
    "documents = [\n",
    "    \"physics\",\n",
    "    \"history\",\n",
    "    \"sports\",\n",
    "    \"science\",\n",
    "    \"philosophy\",\n",
    "    \"social life\"\n",
    "]\n",
    "\n",
    "query = 'What is the Newton\\'s law of gravitation?'\n",
    "query = 'When did the Ottoman empire exist?'\n",
    "#query = 'How do you play cricket?'\n",
    "\n",
    "\n",
    "result = openai_search(documents, query, engine='ada')\n",
    "\n",
    "\n",
    "print('query: %s' % query)\n",
    "#sorted(result['data'], key=lambda d:-d['score'])\n",
    "\n",
    "for d, doc in enumerate(result['data']):\n",
    "    print(\" -> %s : %0.2f\" % (documents[d], doc['score']))\n"
   ]
  },
  {
   "cell_type": "code",
   "execution_count": 30,
   "metadata": {},
   "outputs": [
    {
     "name": "stdout",
     "output_type": "stream",
     "text": [
      "['Why did Kublai Khan meet with Marco Polo, someone who was a nobody?', 'What is entropy?']\n",
      "query: What is the Newton's law of gravitation?\n",
      " -> Why did Kublai Khan meet with Marco Polo, someone who was a nobody? : -44.15\n",
      " -> What is entropy? : 31.78\n"
     ]
    }
   ],
   "source": [
    "\n",
    "qa = [\n",
    "    {\n",
    "'Q': 'Why did Kublai Khan meet with Marco Polo, someone who was a nobody?',\n",
    "\n",
    "'A': '''That’s a question which a number of historians have asked. Some have concluded that Polo never met the khan. We’ve only got Polo’s word for it, after all. He doesn’t appear in any Chinese records. Polo could be making the whole thing up.\n",
    "\n",
    "Of course, there could be a middle ground between “absolute non-person making things up” and “personal representative of the emperor.” The Polos were merchants. They were from a far off place, they followed a novel religion, and they represented trade. Kublai Khan was interested in all of that. So while Polo may not have had a position at court and acted as an agent of the emperor, it’s not implausible that he would have been presented to him at least once. After all, presidents and kings meet common people all the time. They don’t give them important positions, but they do see them from time to time.'''\n",
    "    },{\n",
    "\n",
    "'Q': 'What is entropy?',\n",
    "\n",
    "'A': '''Entropy can be defined as a degree of disorder which describes the amount of order (and thus disorder) in a system. A great example of this is with solids and gases: If you imagine the atoms or molecules in a solid block of ice, they will be very orderly and will have a fairly consistent organization. As you increase the temperature, the block of ice melts to liquid, and the system becomes more disordered as the molecules flow more easily. And then when you increase the temperature more, the molecules will gain more energy, allowing them to become much more disordered since they will be farther away from other molecules than in the solid or liquid forms. Thus you can imagine how as you go from solid to gas, disorder increases.''',\n",
    "    },{\n",
    "'Q': 'What have been biggest upsets in world sports?',\n",
    "'A': '''Mike Eruzione scores a goal 10 minutes before the end of the third period against the Soviet Union to ensure that the United States wins 4–3. This happened on the 22nd of February in Lake Placid and has been dubbed - ‘The Miracle on Ice’’.\n",
    "\n",
    "In all of sports history, such a sporting event has never had such a profound impact on the country and it’s people, especially when said country is in a state of chaos. It is hard for most of us to believe this, but the United States of America was in a state of complete disarray.\n",
    "\n",
    "The Soviets took the United States lightly, including and especially given the fact that the former were expecting to win the gold medal. The Soviets scored the first goal which was equalized by Buzz Schneider and the second goal was equalized by Mark Johnson, rather controversially. This prompted the Soviet coach Viktor Tikhonov to replace Vladislav Tretiak with Vladimir Myshkin, benching Tretiak who was possibly the best goaltender in the world.\n",
    "\n",
    "All in all, this is hands down the biggest upset in sports history.'''\n",
    "    }\n",
    "]\n",
    "\n",
    "\n",
    "documents = [q['Q'] for q in qa]\n",
    "print(documents)\n",
    "\n",
    "query = 'What is the Newton\\'s law of gravitation?'\n",
    "#query = 'When did the Ottoman empire exist?'\n",
    "#query = 'How do you play cricket?'\n",
    "\n",
    "\n",
    "result = openai_search(documents, query, engine='ada')\n",
    "\n",
    "\n",
    "print('query: %s' % query)\n",
    "#sorted(result['data'], key=lambda d:-d['score'])\n",
    "\n",
    "for d, doc in enumerate(result['data']):\n",
    "    print(\" -> %s : %0.2f\" % (documents[d], doc['score']))\n",
    "\n",
    "\n",
    "    \n"
   ]
  },
  {
   "cell_type": "code",
   "execution_count": 50,
   "metadata": {},
   "outputs": [
    {
     "name": "stdout",
     "output_type": "stream",
     "text": [
      "['Why did Kublai Khan meet with Marco Polo, someone who was a nobody?', 'What is entropy?', 'What have been biggest upsets in world sports?']\n",
      " -> Why did Kublai Khan meet with Marco Polo, someone who was a nobody? : -19.22\n",
      " -> What is entropy? : 4.44\n",
      " -> What have been biggest upsets in world sports? : 95.22\n",
      "[-19.224, 4.442, 95.219]\n",
      "[0 1 2]\n",
      "------\n",
      "Question: What have been biggest upsets in world sports?\n",
      "\n",
      "Answer: Mike Eruzione scores a goal 10 minutes before the end of the third period against the Soviet Union to ensure that the United States wins 4–3. This happened on the 22nd of February in Lake Placid and has been dubbed - ‘The Miracle on Ice’’.\n",
      "\n",
      "In all of sports history, such a sporting event has never had such a profound impact on the country and it’s people, especially when said country is in a state of chaos. It is hard for most of us to believe this, but the United States of America was in a state of complete disarray.\n",
      "\n",
      "The Soviets took the United States lightly, including and especially given the fact that the former were expecting to win the gold medal. The Soviets scored the first goal which was equalized by Buzz Schneider and the second goal was equalized by Mark Johnson, rather controversially. This prompted the Soviet coach Viktor Tikhonov to replace Vladislav Tretiak with Vladimir Myshkin, benching Tretiak who was possibly the best goaltender in the world.\n",
      "\n",
      "All in all, this is hands down the biggest upset in sports history.\n",
      "\n",
      "\n",
      "Question: How do you play cricket?\n",
      "\n",
      "Answer:\n",
      "PROMPT:\n",
      "\n",
      "Question: What have been biggest upsets in world sports?\n",
      "\n",
      "Answer: Mike Eruzione scores a goal 10 minutes before the end of the third period against the Soviet Union to ensure that the United States wins 4–3. This happened on the 22nd of February in Lake Placid and has been dubbed - ‘The Miracle on Ice’’.\n",
      "\n",
      "In all of sports history, such a sporting event has never had such a profound impact on the country and it’s people, especially when said country is in a state of chaos. It is hard for most of us to believe this, but the United States of America was in a state of complete disarray.\n",
      "\n",
      "The Soviets took the United States lightly, including and especially given the fact that the former were expecting to win the gold medal. The Soviets scored the first goal which was equalized by Buzz Schneider and the second goal was equalized by Mark Johnson, rather controversially. This prompted the Soviet coach Viktor Tikhonov to replace Vladislav Tretiak with Vladimir Myshkin, benching Tretiak who was possibly the best goaltender in the world.\n",
      "\n",
      "All in all, this is hands down the biggest upset in sports history.\n",
      "\n",
      "\n",
      "Question: How do you play cricket?\n",
      "\n",
      "Answer:\n",
      "\n",
      "\n",
      "\n",
      "COMPLETION:\n",
      "\n",
      "I’m not sure I should be asked that question because maybe I should tell you that I’ve played it since I was 3. However, in fairness the answer is easily available to you as the interviewer. As a practitetist in the sport, it came naturally to me.I’ve always been a good-natured person and I love to take the game and make it personal. I think it’s a great sport and has great potential to win\n"
     ]
    }
   ],
   "source": [
    "import numpy as np\n",
    "\n",
    "qa = [\n",
    "    {\n",
    "'Q': 'Why did Kublai Khan meet with Marco Polo, someone who was a nobody?',\n",
    "\n",
    "'A': '''That’s a question which a number of historians have asked. Some have concluded that Polo never met the khan. We’ve only got Polo’s word for it, after all. He doesn’t appear in any Chinese records. Polo could be making the whole thing up.\n",
    "\n",
    "Of course, there could be a middle ground between “absolute non-person making things up” and “personal representative of the emperor.” The Polos were merchants. They were from a far off place, they followed a novel religion, and they represented trade. Kublai Khan was interested in all of that. So while Polo may not have had a position at court and acted as an agent of the emperor, it’s not implausible that he would have been presented to him at least once. After all, presidents and kings meet common people all the time. They don’t give them important positions, but they do see them from time to time.'''\n",
    "    },{\n",
    "\n",
    "'Q': 'What is entropy?',\n",
    "\n",
    "'A': '''Entropy can be defined as a degree of disorder which describes the amount of order (and thus disorder) in a system. A great example of this is with solids and gases: If you imagine the atoms or molecules in a solid block of ice, they will be very orderly and will have a fairly consistent organization. As you increase the temperature, the block of ice melts to liquid, and the system becomes more disordered as the molecules flow more easily. And then when you increase the temperature more, the molecules will gain more energy, allowing them to become much more disordered since they will be farther away from other molecules than in the solid or liquid forms. Thus you can imagine how as you go from solid to gas, disorder increases.''',\n",
    "    },{\n",
    "'Q': 'What have been biggest upsets in world sports?',\n",
    "'A': '''Mike Eruzione scores a goal 10 minutes before the end of the third period against the Soviet Union to ensure that the United States wins 4–3. This happened on the 22nd of February in Lake Placid and has been dubbed - ‘The Miracle on Ice’’.\n",
    "\n",
    "In all of sports history, such a sporting event has never had such a profound impact on the country and it’s people, especially when said country is in a state of chaos. It is hard for most of us to believe this, but the United States of America was in a state of complete disarray.\n",
    "\n",
    "The Soviets took the United States lightly, including and especially given the fact that the former were expecting to win the gold medal. The Soviets scored the first goal which was equalized by Buzz Schneider and the second goal was equalized by Mark Johnson, rather controversially. This prompted the Soviet coach Viktor Tikhonov to replace Vladislav Tretiak with Vladimir Myshkin, benching Tretiak who was possibly the best goaltender in the world.\n",
    "\n",
    "All in all, this is hands down the biggest upset in sports history.'''\n",
    "    }\n",
    "]\n",
    "\n",
    "\n",
    "documents = [q['Q'] for q in qa]\n",
    "print(documents)\n",
    "    \n",
    "\n",
    "query = 'What is the Newton\\'s law of gravitation?'\n",
    "query = 'When did the Ottoman empire exist?'\n",
    "query = 'How do you play cricket?'\n",
    "\n",
    "\n",
    "result = openai_search(documents, query, engine='ada')\n",
    "\n",
    "\n",
    "\n",
    "for d, doc in enumerate(result['data']):\n",
    "    print(\" -> %s : %0.2f\" % (documents[d], doc['score']))\n",
    "\n",
    "scores = [doc['score'] for doc in result['data']]\n",
    "print(scores)\n",
    "\n",
    "\n",
    "print(np.argsort(scores))\n",
    "\n",
    "idx = np.argsort(scores)[-1]\n",
    "q = qa[idx]['Q']\n",
    "a = qa[idx]['A']\n",
    "#print('-----')\n",
    "#print(q)\n",
    "#print(a)\n",
    "\n",
    "\n",
    "\n",
    "\n",
    "\n",
    "prompt_str =  'Question: %s\\n\\n' % q\n",
    "prompt_str += 'Answer: %s\\n\\n\\n' % a\n",
    "prompt_str += 'Question: %s\\n\\n' % str(query)\n",
    "prompt_str += 'Answer:'\n",
    "print('------')\n",
    "print(prompt_str)\n",
    "\n",
    "\n",
    "result = openai_complete(prompt_str, engine='ada', stops=['Question:', 'Answer:'])\n",
    "print('PROMPT:\\n\\n%s\\n\\n\\n' % prompt_str)\n",
    "print('COMPLETION:\\n\\n%s' % result)"
   ]
  },
  {
   "cell_type": "code",
   "execution_count": 43,
   "metadata": {},
   "outputs": [
    {
     "ename": "TypeError",
     "evalue": "must be str, not tuple",
     "output_type": "error",
     "traceback": [
      "\u001b[0;31m---------------------------------------------------------------------------\u001b[0m",
      "\u001b[0;31mTypeError\u001b[0m                                 Traceback (most recent call last)",
      "\u001b[0;32m<ipython-input-43-53c5ad8bb224>\u001b[0m in \u001b[0;36m<module>\u001b[0;34m\u001b[0m\n\u001b[1;32m      1\u001b[0m \u001b[0mprompt_str\u001b[0m \u001b[0;34m=\u001b[0m  \u001b[0;34m'Question: %s\\n'\u001b[0m \u001b[0;34m%\u001b[0m \u001b[0mq\u001b[0m\u001b[0;34m\u001b[0m\u001b[0;34m\u001b[0m\u001b[0m\n\u001b[1;32m      2\u001b[0m \u001b[0mprompt_str\u001b[0m \u001b[0;34m+=\u001b[0m \u001b[0;34m'Answer: %s\\n'\u001b[0m \u001b[0;34m%\u001b[0m \u001b[0ma\u001b[0m\u001b[0;34m\u001b[0m\u001b[0;34m\u001b[0m\u001b[0m\n\u001b[0;32m----> 3\u001b[0;31m \u001b[0mprompt_str\u001b[0m \u001b[0;34m+=\u001b[0m \u001b[0;34m'Question: %s\\n'\u001b[0m \u001b[0;34m%\u001b[0m \u001b[0mstr\u001b[0m\u001b[0;34m(\u001b[0m\u001b[0mquery\u001b[0m\u001b[0;34m)\u001b[0m\u001b[0;34m,\u001b[0m\u001b[0;34m\u001b[0m\u001b[0;34m\u001b[0m\u001b[0m\n\u001b[0m\u001b[1;32m      4\u001b[0m \u001b[0;34m\u001b[0m\u001b[0m\n\u001b[1;32m      5\u001b[0m \u001b[0mprint\u001b[0m\u001b[0;34m(\u001b[0m\u001b[0mprompt_str\u001b[0m\u001b[0;34m)\u001b[0m\u001b[0;34m\u001b[0m\u001b[0;34m\u001b[0m\u001b[0m\n",
      "\u001b[0;31mTypeError\u001b[0m: must be str, not tuple"
     ]
    }
   ],
   "source": [
    "prompt_str =  'Question: %s\\n' % q\n",
    "prompt_str += 'Answer: %s\\n' % a\n",
    "prompt_str += 'Question: %s\\n' % str(query),\n",
    "\n",
    "print(prompt_str)"
   ]
  },
  {
   "cell_type": "code",
   "execution_count": 44,
   "metadata": {},
   "outputs": [
    {
     "ename": "TypeError",
     "evalue": "must be str, not tuple",
     "output_type": "error",
     "traceback": [
      "\u001b[0;31m---------------------------------------------------------------------------\u001b[0m",
      "\u001b[0;31mTypeError\u001b[0m                                 Traceback (most recent call last)",
      "\u001b[0;32m<ipython-input-44-408783c18728>\u001b[0m in \u001b[0;36m<module>\u001b[0;34m\u001b[0m\n\u001b[0;32m----> 1\u001b[0;31m \u001b[0mprompt_str\u001b[0m \u001b[0;34m+=\u001b[0m \u001b[0;34m'Question: %s\\n'\u001b[0m \u001b[0;34m%\u001b[0m \u001b[0mstr\u001b[0m\u001b[0;34m(\u001b[0m\u001b[0mquery\u001b[0m\u001b[0;34m)\u001b[0m\u001b[0;34m,\u001b[0m\u001b[0;34m\u001b[0m\u001b[0;34m\u001b[0m\u001b[0m\n\u001b[0m",
      "\u001b[0;31mTypeError\u001b[0m: must be str, not tuple"
     ]
    }
   ],
   "source": [
    "prompt_str += 'Question: %s\\n' % str(query),\n"
   ]
  },
  {
   "cell_type": "code",
   "execution_count": null,
   "metadata": {},
   "outputs": [],
   "source": [
    "\n",
    "documents = [\n",
    "    \"physics\",\n",
    "    \"history\",\n",
    "    \"sports\",\n",
    "    \"science\",\n",
    "    \"philosophy\",\n",
    "    \"social life\"\n",
    "]\n",
    "\n",
    "query = 'What is the Newton\\'s law of gravitation?'\n",
    "query = 'When did the Ottoman empire exist?'\n",
    "#query = 'How do you play cricket?'\n",
    "\n",
    "\n",
    "result = openai_search(documents, query, engine='ada')\n",
    "\n",
    "\n",
    "print('query: %s' % query)\n",
    "#sorted(result['data'], key=lambda d:-d['score'])\n",
    "\n",
    "for d, doc in enumerate(result['data']):\n",
    "    print(\" -> %s : %0.2f\" % (documents[d], doc['score']))\n"
   ]
  },
  {
   "cell_type": "code",
   "execution_count": 9,
   "metadata": {},
   "outputs": [
    {
     "ename": "AttributeError",
     "evalue": "module 'openai' has no attribute 'Search'",
     "output_type": "error",
     "traceback": [
      "\u001b[0;31m---------------------------------------------------------------------------\u001b[0m",
      "\u001b[0;31mAttributeError\u001b[0m                            Traceback (most recent call last)",
      "\u001b[0;32m<ipython-input-9-32b11d7cc816>\u001b[0m in \u001b[0;36m<module>\u001b[0;34m\u001b[0m\n\u001b[1;32m     13\u001b[0m \u001b[0mquery\u001b[0m \u001b[0;34m=\u001b[0m \u001b[0;34m\"the president\"\u001b[0m\u001b[0;34m\u001b[0m\u001b[0;34m\u001b[0m\u001b[0m\n\u001b[1;32m     14\u001b[0m \u001b[0;34m\u001b[0m\u001b[0m\n\u001b[0;32m---> 15\u001b[0;31m response = openai.Search.create(\n\u001b[0m\u001b[1;32m     16\u001b[0m     \u001b[0mengine\u001b[0m\u001b[0;34m=\u001b[0m\u001b[0mengine\u001b[0m\u001b[0;34m,\u001b[0m\u001b[0;34m\u001b[0m\u001b[0;34m\u001b[0m\u001b[0m\n\u001b[1;32m     17\u001b[0m     \u001b[0mprompt\u001b[0m\u001b[0;34m=\u001b[0m\u001b[0mprompt\u001b[0m\u001b[0;34m,\u001b[0m\u001b[0;34m\u001b[0m\u001b[0;34m\u001b[0m\u001b[0m\n",
      "\u001b[0;31mAttributeError\u001b[0m: module 'openai' has no attribute 'Search'"
     ]
    }
   ],
   "source": [
    "\n",
    "\n",
    "\n",
    "engine = 'ada'\n",
    "max_tokens = 100\n",
    "temperature = 0.9\n",
    "stops = ['\\n']\n",
    "\n",
    "\n",
    "data = '{ \"documents\": [\"White House\", \"hospital\", \"school\"], \"query\": \"the president\" }'\n",
    "\n",
    "response = requests.post('https://api.openai.com/v1/engines/davinci/search', headers=headers, data=data)\n",
    "\n",
    "\n",
    "\n",
    "\n",
    "query = \"the president\"\n",
    "\n",
    "response = openai.Search.create(\n",
    "    engine=engine, \n",
    "    prompt=prompt,\n",
    "    documents=documents)\n",
    "#text = response.choices[0].text\n",
    "\n",
    "\n",
    "\n",
    "\n",
    "\n",
    "#print(text.strip())\n"
   ]
  },
  {
   "cell_type": "code",
   "execution_count": 11,
   "metadata": {},
   "outputs": [
    {
     "data": {
      "text/plain": [
       "openai.api_resources.completion.Completion"
      ]
     },
     "execution_count": 11,
     "metadata": {},
     "output_type": "execute_result"
    }
   ],
   "source": [
    "openai.Completion"
   ]
  },
  {
   "cell_type": "code",
   "execution_count": 13,
   "metadata": {},
   "outputs": [
    {
     "name": "stdout",
     "output_type": "stream",
     "text": [
      "<Response [401]>\n"
     ]
    }
   ],
   "source": [
    "import requests\n",
    "url = 'https://api.openai.com/v1/engines/davinci/search'\n",
    "#payload = open(\"request.json\")\n",
    "\n",
    "payload = {\n",
    "  \"documents\": [\"White House\", \"hospital\", \"school\"],\n",
    "  \"query\": \"the president\"\n",
    "}\n",
    "#'Accept-Charset': 'UTF-8', \n",
    "headers = {'content-type': 'application/json', 'Authorization': 'sk-uLOQjoZVQ4xFfMWI8ZehSzHpZkUFoizPfASPuAei'}\n",
    "r = requests.post(url, data=payload, headers=headers)\n",
    "\n",
    "\n",
    "print(r)"
   ]
  },
  {
   "cell_type": "code",
   "execution_count": 18,
   "metadata": {},
   "outputs": [],
   "source": [
    "\n"
   ]
  },
  {
   "cell_type": "code",
   "execution_count": 20,
   "metadata": {},
   "outputs": [
    {
     "data": {
      "text/plain": [
       "'{\\n  \"object\": \"list\",\\n  \"data\": [\\n    {\\n      \"object\": \"search_result\",\\n      \"document\": 0,\\n      \"score\": 213.462\\n    },\\n    {\\n      \"object\": \"search_result\",\\n      \"document\": 1,\\n      \"score\": 53.826\\n    },\\n    {\\n      \"object\": \"search_result\",\\n      \"document\": 2,\\n      \"score\": 40.472\\n    }\\n  ],\\n  \"model\": \"davinci:2020-05-03\"\\n}\\n'"
      ]
     },
     "execution_count": 20,
     "metadata": {},
     "output_type": "execute_result"
    }
   ],
   "source": [
    "response.text\n"
   ]
  },
  {
   "cell_type": "code",
   "execution_count": 25,
   "metadata": {},
   "outputs": [
    {
     "name": "stdout",
     "output_type": "stream",
     "text": [
      "0 213.462\n",
      "1 53.826\n",
      "2 40.472\n"
     ]
    }
   ],
   "source": [
    "\n",
    "result = json.loads(response.text)\n",
    "for d, doc in enumerate(result['data']):\n",
    "    print(d, doc['score'])\n"
   ]
  },
  {
   "cell_type": "code",
   "execution_count": null,
   "metadata": {},
   "outputs": [],
   "source": []
  }
 ],
 "metadata": {
  "kernelspec": {
   "display_name": "Python 3",
   "language": "python",
   "name": "python3"
  },
  "language_info": {
   "codemirror_mode": {
    "name": "ipython",
    "version": 3
   },
   "file_extension": ".py",
   "mimetype": "text/x-python",
   "name": "python",
   "nbconvert_exporter": "python",
   "pygments_lexer": "ipython3",
   "version": "3.6.8"
  }
 },
 "nbformat": 4,
 "nbformat_minor": 4
}
